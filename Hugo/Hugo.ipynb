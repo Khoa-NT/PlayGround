{
 "cells": [
  {
   "cell_type": "markdown",
   "metadata": {},
   "source": [
    "# Note"
   ]
  },
  {
   "cell_type": "markdown",
   "metadata": {},
   "source": [
    "## hugo"
   ]
  },
  {
   "cell_type": "markdown",
   "metadata": {},
   "source": [
    "Running hugo does not remove generated files before building. This means that you should delete your public/ directory (or the publish directory you specified via flag or configuration file) before running the hugo command. If you do not remove these files, you run the risk of the wrong files (e.g., drafts or future posts) being left in the generated site."
   ]
  },
  {
   "cell_type": "markdown",
   "metadata": {},
   "source": [
    "## hugo server"
   ]
  },
  {
   "cell_type": "markdown",
   "metadata": {},
   "source": [
    "Will run LiveReload as an default.  \n",
    "To disable:  \n",
    "```\n",
    "hugo server --watch=false\n",
    "```\n",
    "or  \n",
    "```\n",
    "hugo server --disableLiveReload\n",
    "```\n",
    "\n",
    "The latter flag can be omitted by adding the following key-value to your config.toml or config.yml file, respectively:   \n",
    "```\n",
    "disableLiveReload = true\n",
    "```\n",
    "or  \n",
    "```\n",
    "disableLiveReload: true\n",
    "```"
   ]
  },
  {
   "cell_type": "code",
   "execution_count": null,
   "metadata": {},
   "outputs": [],
   "source": []
  }
 ],
 "metadata": {
  "kernelspec": {
   "display_name": "Python 3",
   "language": "python",
   "name": "python3"
  },
  "language_info": {
   "codemirror_mode": {
    "name": "ipython",
    "version": 3
   },
   "file_extension": ".py",
   "mimetype": "text/x-python",
   "name": "python",
   "nbconvert_exporter": "python",
   "pygments_lexer": "ipython3",
   "version": "3.7.7"
  }
 },
 "nbformat": 4,
 "nbformat_minor": 4
}
